{
 "cells": [
  {
   "cell_type": "code",
   "execution_count": 1,
   "metadata": {
    "collapsed": false
   },
   "outputs": [
    {
     "data": {
      "application/javascript": [
       "/**********************************************************************************************\n",
       "Known Mathjax Issue with Chrome - a rounding issue adds a border to the right of mathjax markup\n",
       "https://github.com/mathjax/MathJax/issues/1300\n",
       "A quick hack to fix this based on stackoverflow discussions: \n",
       "http://stackoverflow.com/questions/34277967/chrome-rendering-mathjax-equations-with-a-trailing-vertical-line\n",
       "**********************************************************************************************/\n",
       "\n",
       "$('.math>span').css(\"border-left-color\",\"transparent\")"
      ],
      "text/plain": [
       "<IPython.core.display.Javascript object>"
      ]
     },
     "metadata": {},
     "output_type": "display_data"
    }
   ],
   "source": [
    "%%javascript\n",
    "/**********************************************************************************************\n",
    "Known Mathjax Issue with Chrome - a rounding issue adds a border to the right of mathjax markup\n",
    "https://github.com/mathjax/MathJax/issues/1300\n",
    "A quick hack to fix this based on stackoverflow discussions: \n",
    "http://stackoverflow.com/questions/34277967/chrome-rendering-mathjax-equations-with-a-trailing-vertical-line\n",
    "**********************************************************************************************/\n",
    "\n",
    "$('.math>span').css(\"border-left-color\",\"transparent\")"
   ]
  },
  {
   "cell_type": "code",
   "execution_count": 2,
   "metadata": {
    "collapsed": true
   },
   "outputs": [],
   "source": [
    "%reload_ext autoreload\n",
    "%autoreload 2"
   ]
  },
  {
   "cell_type": "markdown",
   "metadata": {},
   "source": [
    "# MIDS - w261 Machine Learning At Scale\n",
    "__Course Lead:__ Dr James G. Shanahan (__email__ Jimi via  James.Shanahan _AT_ gmail.com)\n",
    "\n",
    "## Assignment - HW9\n",
    "\n",
    "---\n",
    "__Name:__  *Jason Sanchez*   \n",
    "__Class:__ MIDS w261 (Section *Fall 2016 Group 2*)     \n",
    "__Email:__  *jason.sanchez*@iSchool.Berkeley.edu     \n",
    "__Due Time:__ HW9 is due on Tuesday 11/15/2016. "
   ]
  },
  {
   "cell_type": "markdown",
   "metadata": {},
   "source": [
    "# Table of Contents <a name=\"TOC\"></a> \n",
    "\n",
    "1.  [HW Instructions](#1)   \n",
    "2.  [HW References](#2)\n",
    "3.  [HW Problems](#3)   \n",
    "1.  [HW Introduction](#1)   \n",
    "2.  [HW References](#2)\n",
    "3.  [HW  Problems](#3)   \n",
    "    1.0.  [HW9.0](#1.0)   \n",
    "    1.0.  [HW9.1](#1.1)   \n",
    "    1.2.  [HW9.2](#1.2)   \n",
    "    1.3.  [HW9.3](#1.3)    \n",
    "    1.4.  [HW9.4](#1.4)    \n",
    "    1.5.  [HW9.5](#1.5)    \n",
    "    1.5.  [HW9.6](#1.6)    \n",
    "   "
   ]
  },
  {
   "cell_type": "markdown",
   "metadata": {},
   "source": [
    "<a name=\"1\">\n",
    "# 1 Instructions\n",
    "[Back to Table of Contents](#TOC)\n",
    "\n",
    "MIDS UC Berkeley, Machine Learning at Scale\n",
    "DATSCIW261 ASSIGNMENT #9\n",
    "\n",
    "Version 2016-11-01 \n",
    "\n",
    "### INSTRUCTIONS for SUBMISSIONS\n",
    "Please use the following form for HW submission:\n",
    "\n",
    "https://docs.google.com/forms/d/1ZOr9RnIe_A06AcZDB6K1mJN4vrLeSmS2PD6Xm3eOiis/viewform?usp=send_form \n",
    "\n",
    "\n",
    "### IMPORTANT\n",
    "\n",
    "HW9 can be completed locally on your computer for most part but will require a cluster of computers for the bigger wikipedia dataset.\n",
    "\n",
    "### Documents:\n",
    "* IPython Notebook, published and viewable online.\n",
    "* PDF export of IPython Notebook.\n",
    "    \n",
    "<a name=\"2\">\n",
    "# 2 Useful References\n",
    "[Back to Table of Contents](#TOC)\n",
    "\n",
    "* See async and live lectures for this week\n",
    "* Data-intensive text processing with MapReduce. San Rafael, CA: Morgan & Claypool Publishers. Chapter 5. \n",
    "\n",
    "\n",
    "\n",
    "<a name=\"3\">\n",
    "# HW Problems\n",
    "[Back to Table of Contents](#TOC)"
   ]
  },
  {
   "cell_type": "markdown",
   "metadata": {},
   "source": [
    "<h2 style=\"color:darkblue\">HW 9 Dataset</h2>\n",
    "\n",
    "Note that all referenced files are in the enclosing directory. [Checkout the Data subdirectory on Dropbox](https://www.dropbox.com/sh/2c0k5adwz36lkcw/AAAAKsjQfF9uHfv-X9mCqr9wa?dl=0) or the AWS S3 buckets (details contained each question). "
   ]
  },
  {
   "cell_type": "markdown",
   "metadata": {},
   "source": [
    "## 3.  HW9.0  Short answer questions<a name=\"1.0\"></a>\n",
    "[Back to Table of Contents](#TOC)\n",
    "\n",
    "__ What is PageRank and what is it used for in the context of web search?__ \n",
    "PageRank is an algorithm used to score pages based on the PageRank scores of inbound links. These scores can be used as a component in ranking pages returned by search engines.\n",
    "\n",
    "<hr>\n",
    "\n",
    "__ What modifications have to be made to the webgraph in order to leverage the machinery of Markov Chains to compute the Steady State Distibution? __ \n",
    "Stochasticity to resolve dangling edges and teleportation so that any node can be reached by any other node.\n",
    "\n",
    "\n",
    "<hr>\n",
    "\n",
    "__ OPTIONAL: In topic-specific pagerank, how can we ensure that the irreducible property is satifsied? (HINT: see HW9.4) __ \n",
    "Drop nodes that have no inlinks.\n",
    "\n",
    "\n",
    "<hr>\n"
   ]
  },
  {
   "cell_type": "code",
   "execution_count": 9,
   "metadata": {
    "collapsed": false
   },
   "outputs": [],
   "source": [
    "%matplotlib inline\n",
    "from __future__ import division, print_function\n",
    "import matplotlib.pyplot as plt\n",
    "from numpy.random import choice, rand\n",
    "from collections import defaultdict\n",
    "import pandas as pd\n",
    "import numpy as np"
   ]
  },
  {
   "cell_type": "markdown",
   "metadata": {},
   "source": [
    "### Here are some simple in memory implementations of PageRank"
   ]
  },
  {
   "cell_type": "code",
   "execution_count": 4,
   "metadata": {
    "collapsed": true
   },
   "outputs": [],
   "source": [
    "# Here are the correct PR values to compare each implementation against\n",
    "true_values = [ 0.03278149,  0.38440095,  0.34291029,  0.03908709,  0.08088569,\n",
    "                0.03908709,  0.01616948,  0.01616948,  0.01616948,  0.01616948,\n",
    "                0.01616948]"
   ]
  },
  {
   "cell_type": "markdown",
   "metadata": {},
   "source": [
    "#### Perform a simple random walk with adjacency lists and track which pages are visited."
   ]
  },
  {
   "cell_type": "code",
   "execution_count": 7,
   "metadata": {
    "collapsed": false
   },
   "outputs": [
    {
     "name": "stdout",
     "output_type": "stream",
     "text": [
      "{'A': 670, 'C': 6768, 'B': 7624, 'E': 1709, 'D': 761, 'G': 319, 'F': 787, 'I': 344, 'H': 336, 'K': 352, 'J': 331}\n",
      "PageRank for page A: 0.033498\n",
      "PageRank for page C: 0.338383\n",
      "PageRank for page B: 0.381181\n",
      "PageRank for page E: 0.085446\n",
      "PageRank for page D: 0.038048\n",
      "PageRank for page G: 0.015949\n",
      "PageRank for page F: 0.039348\n",
      "PageRank for page I: 0.017199\n",
      "PageRank for page H: 0.016799\n",
      "PageRank for page K: 0.017599\n",
      "PageRank for page J: 0.016549\n"
     ]
    },
    {
     "data": {
      "image/png": "[encoded data removed]",
      "text/plain": [
       "<matplotlib.figure.Figure at 0x10c14d5d0>"
      ]
     },
     "metadata": {},
     "output_type": "display_data"
    }
   ],
   "source": [
    "pages = {\"B\":[\"C\"],\n",
    "         \"C\":[\"B\"],\n",
    "         \"D\":[\"A\",\"B\"],\n",
    "         \"E\":[\"B\",\"D\",\"F\"],\n",
    "         \"F\":[\"B\",\"E\"],\n",
    "         \"G\":[\"B\",\"E\"],\n",
    "         \"H\":[\"B\",\"E\"],\n",
    "         \"I\":[\"B\",\"E\"],\n",
    "         \"J\":[\"E\"],\n",
    "         \"K\":[\"E\"]}\n",
    "\n",
    "teleport = .15\n",
    "iterations = 20001\n",
    "all_nodes = [\"A\", \"B\", \"C\", \"D\", \"E\", \"F\", \"G\", \"H\", \"I\", \"J\", \"K\"]\n",
    "\n",
    "iterations_to_plot = 200\n",
    "page_visits = defaultdict(int)\n",
    "default_val = 1.0/len(all_nodes)\n",
    "current_page = pages.keys()[0]\n",
    "mod = iterations//iterations_to_plot\n",
    "all_page_visits = []\n",
    "\n",
    "for i in xrange(iterations):\n",
    "    if rand() < teleport:\n",
    "        possible_pages = all_nodes\n",
    "    else:\n",
    "        possible_pages = pages.get(current_page, all_nodes)\n",
    "    current_page = choice(possible_pages)\n",
    "    page_visits[current_page] += 1\n",
    "    if i%mod == 0:\n",
    "        dict_to_save = dict(page_visits)\n",
    "        dict_to_save[\"index\"] = i\n",
    "        all_page_visits.append(dict_to_save)\n",
    "    \n",
    "print(dict(page_visits))\n",
    "    \n",
    "total = 0.0\n",
    "for page, counts in page_visits.items():\n",
    "    total += counts\n",
    "    \n",
    "for page, counts in page_visits.items():\n",
    "    print(\"PageRank for page %s: %f\" % (page, counts/total))\n",
    "    \n",
    "data = pd.DataFrame(all_page_visits[1:])\n",
    "data.index = data.pop(\"index\")\n",
    "normalized_data = data.div(data.sum(axis=1), axis=0)\n",
    "normalized_data.plot(legend=False)\n",
    "plt.ylim(0,.5)\n",
    "plt.hlines(true_values,0,iterations-1, colors=\"grey\")\n",
    "plt.title(\"Random walk PageRank values\");"
   ]
  },
  {
   "cell_type": "markdown",
   "metadata": {},
   "source": [
    "#### Use power iterations to solve"
   ]
  },
  {
   "cell_type": "code",
   "execution_count": 10,
   "metadata": {
    "collapsed": false
   },
   "outputs": [
    {
     "data": {
      "image/png": "[encoded data removed]",
      "text/plain": [
       "<matplotlib.figure.Figure at 0x10ec0d3d0>"
      ]
     },
     "metadata": {},
     "output_type": "display_data"
    },
    {
     "data": {
      "image/png": "[encoded data removed]",
      "text/plain": [
       "<matplotlib.figure.Figure at 0x10ed07dd0>"
      ]
     },
     "metadata": {},
     "output_type": "display_data"
    }
   ],
   "source": [
    "iterations = 51\n",
    "d = .85\n",
    "\n",
    "thd = 1/3.0\n",
    "fll = 1/11.0\n",
    "T = np.array( [[ fll,  fll,  fll,  fll,  fll,  fll,  fll,  fll,  fll,  fll,  fll],\n",
    "               [ 0. ,  0. ,  1. ,  0. ,  0. ,  0. ,  0. ,  0. ,  0. ,  0. ,  0. ],\n",
    "               [ 0. ,  1. ,  0. ,  0. ,  0. ,  0. ,  0. ,  0. ,  0. ,  0. ,  0. ],\n",
    "               [ 0.5,  0.5,  0. ,  0. ,  0. ,  0. ,  0. ,  0. ,  0. ,  0. ,  0. ],\n",
    "               [ 0. ,  thd,  0. ,  thd,  0. ,  thd,  0. ,  0. ,  0. ,  0. ,  0. ],\n",
    "               [ 0. ,  0.5,  0. ,  0. ,  0.5,  0. ,  0. ,  0. ,  0. ,  0. ,  0. ],\n",
    "               [ 0. ,  0.5,  0. ,  0. ,  0.5,  0. ,  0. ,  0. ,  0. ,  0. ,  0. ],\n",
    "               [ 0. ,  0.5,  0. ,  0. ,  0.5,  0. ,  0. ,  0. ,  0. ,  0. ,  0. ],\n",
    "               [ 0. ,  0.5,  0. ,  0. ,  0.5,  0. ,  0. ,  0. ,  0. ,  0. ,  0. ],\n",
    "               [ 0. ,  0. ,  0. ,  0. ,  1. ,  0. ,  0. ,  0. ,  0. ,  0. ,  0. ],\n",
    "               [ 0. ,  0. ,  0. ,  0. ,  1. ,  0. ,  0. ,  0. ,  0. ,  0. ,  0. ]])\n",
    "\n",
    "teleport = np.ones(T.shape)/T.shape[0]\n",
    "T = d*T + (1-d)*teleport\n",
    "\n",
    "stable = T\n",
    "\n",
    "all_stables = []\n",
    "\n",
    "for i in xrange(iterations):\n",
    "    stable = stable.dot(T)\n",
    "    all_stables.append(stable.diagonal())\n",
    "\n",
    "plt.plot(all_stables)\n",
    "plt.hlines(true_values,0,iterations-1, colors=\"grey\")\n",
    "plt.title(\"Power iterations stabilize after about 50 iterations\")\n",
    "plt.ylim(0,.5)\n",
    "plt.show()\n",
    "\n",
    "plt.plot(all_stables)\n",
    "plt.hlines(true_values,0,iterations-1, colors=\"grey\")\n",
    "plt.title(\"Zoomed in on the two highest PR pages\")\n",
    "plt.ylim(.32, .4);"
   ]
  },
  {
   "cell_type": "markdown",
   "metadata": {},
   "source": [
    "#### New algo: Power iteration with compounding T \n",
    "Instead of multiplying the current result by the transition matrix, we can start with the transition matrix and multiply it by itself. This results in much faster convergence."
   ]
  },
  {
   "cell_type": "code",
   "execution_count": 11,
   "metadata": {
    "collapsed": false
   },
   "outputs": [
    {
     "data": {
      "image/png": "[encoded data removed]",
      "text/plain": [
       "<matplotlib.figure.Figure at 0x10c191a50>"
      ]
     },
     "metadata": {},
     "output_type": "display_data"
    },
    {
     "name": "stdout",
     "output_type": "stream",
     "text": [
      "\n"
     ]
    },
    {
     "data": {
      "image/png": "[encoded data removed]",
      "text/plain": [
       "<matplotlib.figure.Figure at 0x10f2d0fd0>"
      ]
     },
     "metadata": {},
     "output_type": "display_data"
    }
   ],
   "source": [
    "iterations = 11\n",
    "d = .85\n",
    "\n",
    "thd = 1/3.0\n",
    "fll = 1/11.0\n",
    "T = np.array( [[ fll,  fll,  fll,  fll,  fll,  fll,  fll,  fll,  fll,  fll,  fll],\n",
    "               [ 0. ,  0. ,  1. ,  0. ,  0. ,  0. ,  0. ,  0. ,  0. ,  0. ,  0. ],\n",
    "               [ 0. ,  1. ,  0. ,  0. ,  0. ,  0. ,  0. ,  0. ,  0. ,  0. ,  0. ],\n",
    "               [ 0.5,  0.5,  0. ,  0. ,  0. ,  0. ,  0. ,  0. ,  0. ,  0. ,  0. ],\n",
    "               [ 0. ,  thd,  0. ,  thd,  0. ,  thd,  0. ,  0. ,  0. ,  0. ,  0. ],\n",
    "               [ 0. ,  0.5,  0. ,  0. ,  0.5,  0. ,  0. ,  0. ,  0. ,  0. ,  0. ],\n",
    "               [ 0. ,  0.5,  0. ,  0. ,  0.5,  0. ,  0. ,  0. ,  0. ,  0. ,  0. ],\n",
    "               [ 0. ,  0.5,  0. ,  0. ,  0.5,  0. ,  0. ,  0. ,  0. ,  0. ,  0. ],\n",
    "               [ 0. ,  0.5,  0. ,  0. ,  0.5,  0. ,  0. ,  0. ,  0. ,  0. ,  0. ],\n",
    "               [ 0. ,  0. ,  0. ,  0. ,  1. ,  0. ,  0. ,  0. ,  0. ,  0. ,  0. ],\n",
    "               [ 0. ,  0. ,  0. ,  0. ,  1. ,  0. ,  0. ,  0. ,  0. ,  0. ,  0. ]])\n",
    "\n",
    "teleport = np.ones(T.shape)/T.shape[0]\n",
    "T = d*T + (1-d)*teleport\n",
    "\n",
    "all_stables = []\n",
    "\n",
    "for i in xrange(iterations):\n",
    "    T = T.dot(T)\n",
    "    all_stables.append(T.diagonal())\n",
    "    \n",
    "plt.plot(all_stables);\n",
    "plt.hlines(true_values,0,iterations-1, colors=\"grey\")\n",
    "plt.title(\"The single-lag smoothed version converges much faster\")\n",
    "plt.ylim(0,.5)\n",
    "plt.show()\n",
    "\n",
    "plt.plot(all_stables)\n",
    "plt.hlines(true_values,0,iterations-1, colors=\"grey\")\n",
    "plt.title(\"Zoomed in on the two highest PR pages\\nshows convergence after 5 iterations\")\n",
    "plt.ylim(.32, .4);\n",
    "\n",
    "print()"
   ]
  },
  {
   "cell_type": "markdown",
   "metadata": {},
   "source": [
    "## 3.  HW9.1  MRJob implementation of basic PageRank <a name=\"1.1\"></a>\n",
    "[Back to Table of Contents](#TOC)\n",
    "\n",
    "Write a basic MRJob implementation of the iterative PageRank algorithm that takes sparse adjacency lists as input (as explored in HW 7).\n",
    "\n",
    "Make sure that you implementation utilizes teleportation (1-damping/the number of nodes in the network), and further, distributes the mass of dangling nodes with each iteration so that the output of each iteration is correctly normalized (sums to 1).\n",
    "\n",
    "\n",
    "[NOTE: The PageRank algorithm assumes that a random surfer (walker), starting from a random web page, chooses the next page to which it will move by clicking at random, with probability d,one of the hyperlinks in the current page. This probability is represented by a so-called *damping factor* d, where d ∈ (0, 1). Otherwise, with probability (1 − d), the surfer jumps to any web page in the network. If a page is a dangling end, meaning it has no outgoing hyperlinks, the random surfer selects an arbitrary web page from a uniform distribution and “teleports” to that page]\n",
    "\n",
    "As you build your code, use the data located here :\n",
    "\n",
    "In the Data Subfolder for HW7 on Dropbox (same dataset as HW7) with the same file name. \n",
    "> Dropbox: https://www.dropbox.com/sh/2c0k5adwz36lkcw/AAAAKsjQfF9uHfv-X9mCqr9wa?dl=0\n",
    "\n",
    "Or on Amazon: \n",
    "\n",
    "> s3://ucb-mids-mls-networks/PageRank-test.txt\n",
    "\n",
    "with teleportation parameter set to 0.15 (1-d, where d, the damping factor is set to 0.85), and crosscheck your work with the true result, displayed in the first image in the [Wikipedia article](https://en.wikipedia.org/wiki/PageRank)\n",
    "and here for reference are the corresponding PageRank probabilities:\n",
    "<pre>\n",
    "\n",
    "A, 0.033\n",
    "B, 0.384\n",
    "C, 0.343\n",
    "D, 0.039\n",
    "E, 0.081\n",
    "F, 0.039\n",
    "G, 0.016\n",
    "H, 0.016\n",
    "I, 0.016\n",
    "J, 0.016\n",
    "K, 0.016\n",
    "\n",
    "</pre>"
   ]
  },
  {
   "cell_type": "markdown",
   "metadata": {},
   "source": [
    "#### Here is a one-step solution to the problem that uses a single reducer"
   ]
  },
  {
   "cell_type": "code",
   "execution_count": 12,
   "metadata": {
    "collapsed": false
   },
   "outputs": [
    {
     "name": "stdout",
     "output_type": "stream",
     "text": [
      "Overwriting PageRank.py\n"
     ]
    }
   ],
   "source": [
    "%%writefile PageRank.py\n",
    "\n",
    "from __future__ import print_function, division\n",
    "from mrjob.job import MRJob\n",
    "from mrjob.job import MRStep\n",
    "from mrjob.protocol import JSONProtocol\n",
    "from sys import stderr\n",
    "\n",
    "class PageRank(MRJob):\n",
    "    INPUT_PROTOCOL = JSONProtocol\n",
    "    \n",
    "    def configure_options(self):\n",
    "        super(PageRank, \n",
    "              self).configure_options()\n",
    "\n",
    "        self.add_passthrough_option(\n",
    "            '--n_nodes', \n",
    "            dest='n_nodes', \n",
    "            type='float',\n",
    "            help=\"\"\"number of nodes \n",
    "            that have outlinks. You can\n",
    "            guess at this because the\n",
    "            exact number will be \n",
    "            updated after the first\n",
    "            iteration.\"\"\")\n",
    "    \n",
    "    def mapper(self, key, lines):\n",
    "        # Handles special keys\n",
    "        # Calculate new Total PR\n",
    "        # each iteration\n",
    "        if key in [\"****Total PR\"]:\n",
    "            raise StopIteration\n",
    "        if key in [\"**Distribute\", \"***n_nodes\"]:\n",
    "            # !!! This is where the special\n",
    "            # hash to the same reducer code\n",
    "            # will need to go.\n",
    "            yield (key, lines)\n",
    "            raise StopIteration\n",
    "        # Handles the first time the \n",
    "        # mapper is called. The lists\n",
    "        # are converted to dictionaries \n",
    "        # with default PR values.\n",
    "        if isinstance(lines, list):\n",
    "            n_nodes = self.options.n_nodes\n",
    "            default_PR = 1/n_nodes\n",
    "            lines = {\"links\":lines, \n",
    "                     \"PR\": default_PR}\n",
    "            # Also perform a node count\n",
    "            yield (\"***n_nodes\", 1.0)\n",
    "        PR = lines[\"PR\"]\n",
    "        links = lines[\"links\"]\n",
    "        n_links = len(links)\n",
    "        # Pass node onward\n",
    "        yield (key, lines)\n",
    "        # Track total PR in system\n",
    "        yield (\"****Total PR\", PR)\n",
    "        # If it is not a dangling node\n",
    "        # distribute its PR to the \n",
    "        # other links.\n",
    "        if n_links:\n",
    "            PR_to_send = PR/n_links\n",
    "            for link in links:\n",
    "                yield (link, PR_to_send)\n",
    "        else:\n",
    "            # !!! This is also where the special\n",
    "            # hash must go.\n",
    "            yield (\"**Distribute\", PR)\n",
    "\n",
    "    def reducer_init(self):\n",
    "        self.to_distribute = None\n",
    "        self.n_nodes = None\n",
    "        self.total_pr = None\n",
    "    \n",
    "    def reducer(self, key, values):\n",
    "        total = 0\n",
    "        node_info = None\n",
    "        \n",
    "        for val in values:\n",
    "            if isinstance(val, float):\n",
    "                total += val\n",
    "            else:\n",
    "                node_info = val\n",
    "                \n",
    "        if node_info:\n",
    "            distribute = self.to_distribute or 0\n",
    "            pr = total + distribute\n",
    "            decayed_pr = .85 * pr\n",
    "            teleport_pr = .15/self.n_nodes\n",
    "            new_pr = decayed_pr + teleport_pr\n",
    "            node_info[\"PR\"] = new_pr\n",
    "            yield (key, node_info)\n",
    "        elif key == \"****Total PR\":\n",
    "            self.total_pr = total\n",
    "            yield (key, total)\n",
    "        elif key == \"***n_nodes\":\n",
    "            self.n_nodes = total\n",
    "            yield (key, total)\n",
    "        elif key == \"**Distribute\":\n",
    "            extra_mass = total\n",
    "            # Because the node_count and\n",
    "            # the mass distribution are \n",
    "            # eventually consistent, a\n",
    "            # simple correction for any early\n",
    "            # discrepancies is a good fix\n",
    "            excess_pr = self.total_pr - 1\n",
    "            weight = extra_mass - excess_pr\n",
    "            self.to_distribute = weight/self.n_nodes\n",
    "        else:\n",
    "            # The only time this should run\n",
    "            # is when dangling nodes are \n",
    "            # discovered during the first\n",
    "            # iteration. By making them\n",
    "            # explicitly tracked, the mapper\n",
    "            # can handle them from now on.\n",
    "            yield (\"**Distribute\", total)\n",
    "            yield (\"***n_nodes\", 1.0)\n",
    "            yield (key, {\"PR\": total, \n",
    "                         \"links\": []})\n",
    "            \n",
    "    def steps(self):\n",
    "        mr_steps = [MRStep(mapper=self.mapper,\n",
    "                           reducer_init=self.reducer_init,\n",
    "                           reducer=self.reducer)]*50\n",
    "        return mr_steps\n",
    "        \n",
    "if __name__ == \"__main__\":\n",
    "    PageRank.run()"
   ]
  },
  {
   "cell_type": "code",
   "execution_count": 13,
   "metadata": {
    "collapsed": false
   },
   "outputs": [
    {
     "name": "stdout",
     "output_type": "stream",
     "text": [
      "(u'****Total PR', 1.0)\n",
      "(u'***n_nodes', 11.0)\n",
      "(u'A', {u'PR': 0.03278149315934761, u'links': []})\n",
      "(u'B', {u'PR': 0.3843611835646984, u'links': [u'C']})\n",
      "(u'C', {u'PR': 0.34295005075721485, u'links': [u'B']})\n",
      "(u'D', {u'PR': 0.039087092099970085, u'links': [u'A', u'B']})\n",
      "(u'E', {u'PR': 0.08088569323450426, u'links': [u'B', u'D', u'F']})\n",
      "(u'F', {u'PR': 0.039087092099970085, u'links': [u'B', u'E']})\n",
      "(u'G', {u'PR': 0.016169479016858924, u'links': [u'B', u'E']})\n",
      "(u'H', {u'PR': 0.016169479016858924, u'links': [u'B', u'E']})\n",
      "(u'I', {u'PR': 0.016169479016858924, u'links': [u'B', u'E']})\n",
      "(u'J', {u'PR': 0.016169479016858924, u'links': [u'E']})\n",
      "(u'K', {u'PR': 0.016169479016858924, u'links': [u'E']})\n"
     ]
    }
   ],
   "source": [
    "%reload_ext autoreload\n",
    "%autoreload 2\n",
    "from PageRank import PageRank\n",
    "\n",
    "mr_job = PageRank(args=[\"data/PageRank-test.txt\", \n",
    "                        \"--n_nodes=11\", \n",
    "                        \"--jobconf=mapred.reduce.tasks=1\"])\n",
    "with mr_job.make_runner() as runner:\n",
    "    runner.run()\n",
    "    for line in runner.stream_output():\n",
    "        print(mr_job.parse_output_line(line))"
   ]
  },
  {
   "cell_type": "markdown",
   "metadata": {},
   "source": [
    "#### Here is a one-step solution that uses multiple reducers"
   ]
  },
  {
   "cell_type": "code",
   "execution_count": 170,
   "metadata": {
    "collapsed": false
   },
   "outputs": [
    {
     "name": "stdout",
     "output_type": "stream",
     "text": [
      "Overwriting PageRank.py\n"
     ]
    }
   ],
   "source": [
    "%%writefile PageRank.py\n",
    "\n",
    "from __future__ import print_function, division\n",
    "import itertools\n",
    "from mrjob.job import MRJob\n",
    "from mrjob.job import MRStep\n",
    "from mrjob.protocol import JSONProtocol\n",
    "from sys import stderr\n",
    "\n",
    "def push(key, value):\n",
    "    yield (key, value)\n",
    "\n",
    "class PageRank(MRJob):\n",
    "    INPUT_PROTOCOL = JSONProtocol\n",
    "    \n",
    "    def configure_options(self):\n",
    "        super(PageRank, \n",
    "              self).configure_options()\n",
    "\n",
    "        self.add_passthrough_option(\n",
    "            '--n_nodes', \n",
    "            dest='n_nodes', \n",
    "            type='float',\n",
    "            help=\"\"\"number of nodes \n",
    "            that have outlinks. You can\n",
    "            guess at this because the\n",
    "            exact number will be \n",
    "            updated after the first\n",
    "            iteration.\"\"\")\n",
    "        \n",
    "    def mapper_init(self):\n",
    "        self.values = {\"****Total PR\": 0.0,\n",
    "                       \"***n_nodes\": 0.0,\n",
    "                       \"**Distribute\": 0.0}\n",
    "        self.n_reducers = 2\n",
    "    \n",
    "    def mapper(self, key, lines):\n",
    "        n_reducers = self.n_reducers\n",
    "        key_hash = hash(key)%n_reducers\n",
    "        # Handles special keys\n",
    "        # Calculate new Total PR\n",
    "        # each iteration\n",
    "        if key in [\"****Total PR\"]:\n",
    "            raise StopIteration\n",
    "        if key in [\"**Distribute\", \"***n_nodes\"]:\n",
    "            # !!! This is where the special\n",
    "            # hash to the same reducer code\n",
    "            # will need to go.\n",
    "            self.values[key] += lines\n",
    "            raise StopIteration\n",
    "        # Handles the first time the \n",
    "        # mapper is called. The lists\n",
    "        # are converted to dictionaries \n",
    "        # with default PR values.\n",
    "        if isinstance(lines, list):\n",
    "            n_nodes = self.options.n_nodes\n",
    "            default_PR = 1/n_nodes\n",
    "            lines = {\"links\":lines, \n",
    "                     \"PR\": default_PR}\n",
    "            # Also perform a node count\n",
    "            self.values[\"***n_nodes\"] += 1.0\n",
    "        PR = lines[\"PR\"]\n",
    "        links = lines[\"links\"]\n",
    "        n_links = len(links)\n",
    "        # Pass node onward\n",
    "        yield (key_hash, (key, lines))\n",
    "        # Track total PR in system\n",
    "        self.values[\"****Total PR\"] += PR\n",
    "        # If it is not a dangling node\n",
    "        # distribute its PR to the \n",
    "        # other links.\n",
    "        if n_links:\n",
    "            PR_to_send = PR/n_links\n",
    "            for link in links:\n",
    "                link_hash = hash(link)%n_reducers\n",
    "                yield (link_hash, (link, PR_to_send))\n",
    "        else:\n",
    "            self.values[\"**Distribute\"] = PR\n",
    "\n",
    "    def mapper_final(self):\n",
    "        for key, value in self.values.items():\n",
    "            for k in range(self.n_reducers):\n",
    "                yield (k, (key, value))\n",
    "            \n",
    "    def reducer_init(self):\n",
    "        self.to_distribute = None\n",
    "        self.n_nodes = None\n",
    "        self.total_pr = None\n",
    "    \n",
    "    def reducer(self, hash_key, combo_values):\n",
    "        gen_values = itertools.groupby(combo_values, \n",
    "                                       key=lambda x:x[0])\n",
    "        for key, values in gen_values:\n",
    "            total = 0\n",
    "            node_info = None\n",
    "\n",
    "            for key, val in values:\n",
    "                if isinstance(val, float):\n",
    "                    total += val\n",
    "                else:\n",
    "                    node_info = val\n",
    "\n",
    "            if node_info:\n",
    "                distribute = self.to_distribute or 0\n",
    "                pr = total + distribute\n",
    "                decayed_pr = .85 * pr\n",
    "                teleport_pr = .15/self.n_nodes\n",
    "                new_pr = decayed_pr + teleport_pr\n",
    "                node_info[\"PR\"] = new_pr\n",
    "                yield (key, node_info)\n",
    "            elif key == \"****Total PR\":\n",
    "                self.total_pr = total\n",
    "                yield (key, total)\n",
    "            elif key == \"***n_nodes\":\n",
    "                total = 11 # REMOVE\n",
    "                self.n_nodes = total\n",
    "                yield (key, total)\n",
    "            elif key == \"**Distribute\":\n",
    "                extra_mass = total\n",
    "                # Because the node_count and\n",
    "                # the mass distribution are \n",
    "                # eventually consistent, a\n",
    "                # simple correction for any early\n",
    "                # discrepancies is a good fix\n",
    "                excess_pr = self.total_pr - 1\n",
    "                weight = extra_mass - excess_pr\n",
    "                self.to_distribute = weight/self.n_nodes\n",
    "            else:\n",
    "                # The only time this should run\n",
    "                # is when dangling nodes are \n",
    "                # discovered during the first\n",
    "                # iteration. By making them\n",
    "                # explicitly tracked, the mapper\n",
    "                # can handle them from now on.\n",
    "                yield (\"**Distribute\", total)\n",
    "                yield (\"***n_nodes\", 1.0)\n",
    "                yield (key, {\"PR\": total, \n",
    "                             \"links\": []})\n",
    "\n",
    "             \n",
    "    def steps(self):\n",
    "        mr_steps = [MRStep(mapper_init=self.mapper_init,\n",
    "                           mapper=self.mapper,\n",
    "                           mapper_final=self.mapper_final,\n",
    "                           reducer_init=self.reducer_init,\n",
    "                           reducer=self.reducer)]*3\n",
    "        return mr_steps\n",
    "\n",
    "\n",
    "if __name__ == \"__main__\":\n",
    "    PageRank.run()"
   ]
  },
  {
   "cell_type": "code",
   "execution_count": 171,
   "metadata": {
    "collapsed": false,
    "scrolled": false
   },
   "outputs": [
    {
     "name": "stdout",
     "output_type": "stream",
     "text": [
      "(u'****Total PR', 0.14336987008041818)\n",
      "(u'***n_nodes', 172032.0)\n",
      "(u'A', {u'PR': 3.97274807576919e-05, u'links': []})\n",
      "(u'C', {u'PR': 0.05302268064443188, u'links': [u'B']})\n",
      "(u'E', {u'PR': 6.935918399018718e-05, u'links': [u'B', u'D', u'F']})\n",
      "(u'G', {u'PR': 5.10486118502381e-06, u'links': [u'B', u'E']})\n",
      "(u'I', {u'PR': 5.10486118502381e-06, u'links': [u'B', u'E']})\n",
      "(u'K', {u'PR': 5.10486118502381e-06, u'links': [u'E']})\n",
      "(u'****Total PR', 0.14336987008041818)\n",
      "(u'***n_nodes', 172032.0)\n",
      "(u'B', {u'PR': 0.06861399904032331, u'links': [u'C']})\n",
      "(u'D', {u'PR': 4.269171779549572e-05, u'links': [u'A', u'B']})\n",
      "(u'F', {u'PR': 4.269171779549572e-05, u'links': [u'B', u'E']})\n",
      "(u'H', {u'PR': 5.10486118502381e-06, u'links': [u'B', u'E']})\n",
      "(u'J', {u'PR': 5.10486118502381e-06, u'links': [u'E']})\n"
     ]
    }
   ],
   "source": [
    "%reload_ext autoreload\n",
    "%autoreload 2\n",
    "from PageRank import PageRank\n",
    "\n",
    "mr_job = PageRank(args=[\"data/PageRank-test.txt\", \n",
    "                        \"--n_nodes=11\", \n",
    "                        \"--jobconf=mapred.reduce.tasks=5\"])\n",
    "\n",
    "with mr_job.make_runner() as runner:\n",
    "    runner.run()\n",
    "    for line in runner.stream_output():\n",
    "        print(mr_job.parse_output_line(line))"
   ]
  },
  {
   "cell_type": "markdown",
   "metadata": {},
   "source": [
    "Plan of attack. \n",
    "\n",
    "* All data that leaves the mapper is assigned a custom key that is a hash of the reducer size\n",
    "* All data entering a reducer is parsed to remove the special key\n",
    "* All data leaving the reducer is stripped of the hash key and is passed back to the original mapper"
   ]
  },
  {
   "cell_type": "code",
   "execution_count": 110,
   "metadata": {
    "collapsed": true
   },
   "outputs": [],
   "source": [
    "temp = []\n",
    "\n",
    "for i in range(5):\n",
    "    temp.extend([i]*5)"
   ]
  },
  {
   "cell_type": "code",
   "execution_count": 111,
   "metadata": {
    "collapsed": false
   },
   "outputs": [
    {
     "data": {
      "text/plain": [
       "[0, 0, 0, 0, 0, 1, 1, 1, 1, 1, 2, 2, 2, 2, 2, 3, 3, 3, 3, 3, 4, 4, 4, 4, 4]"
      ]
     },
     "execution_count": 111,
     "metadata": {},
     "output_type": "execute_result"
    }
   ],
   "source": [
    "temp"
   ]
  },
  {
   "cell_type": "code",
   "execution_count": 112,
   "metadata": {
    "collapsed": true
   },
   "outputs": [],
   "source": [
    "def get_one_number(vals):\n",
    "    for i in vals:\n",
    "        yield i"
   ]
  },
  {
   "cell_type": "code",
   "execution_count": 119,
   "metadata": {
    "collapsed": false
   },
   "outputs": [
    {
     "name": "stdout",
     "output_type": "stream",
     "text": [
      "New gen\n",
      "0\n",
      "0\n",
      "0\n",
      "0\n",
      "0\n",
      "New gen\n",
      "1\n",
      "1\n",
      "1\n",
      "1\n",
      "1\n",
      "New gen\n",
      "2\n",
      "2\n",
      "2\n",
      "2\n",
      "2\n",
      "New gen\n",
      "3\n",
      "3\n",
      "3\n",
      "3\n",
      "3\n",
      "New gen\n",
      "4\n",
      "4\n",
      "4\n",
      "4\n",
      "4\n"
     ]
    }
   ],
   "source": [
    "import itertools\n",
    "\n",
    "temp1 = get_one_number(temp)\n",
    "\n",
    "\n",
    "# def combine_keys(gen):\n",
    "#     for g in gen:\n",
    "#         yield\n",
    "\n",
    "for item, gen in itertools.groupby(temp1, key=lambda x:x):\n",
    "    print(\"New gen\")\n",
    "    for g in gen:\n",
    "        print(g)\n"
   ]
  },
  {
   "cell_type": "code",
   "execution_count": 115,
   "metadata": {
    "collapsed": false
   },
   "outputs": [],
   "source": []
  },
  {
   "cell_type": "code",
   "execution_count": 68,
   "metadata": {
    "collapsed": false
   },
   "outputs": [
    {
     "data": {
      "text/plain": [
       "4"
      ]
     },
     "execution_count": 68,
     "metadata": {},
     "output_type": "execute_result"
    }
   ],
   "source": [
    "def quick_hash(thing_to_hash, n_hash_values, hash_function=hash):\n",
    "    return hash(thing_to_hash)%n_hash_values\n",
    "\n"
   ]
  },
  {
   "cell_type": "markdown",
   "metadata": {},
   "source": [
    "Make custom key based on a hash of the actual key. Make a hash of the value to distribute and send to each reducer partition"
   ]
  },
  {
   "cell_type": "markdown",
   "metadata": {},
   "source": [
    "<h2 style=\"color:darkgreen\"> HW 9.1 Implementation </h2>"
   ]
  },
  {
   "cell_type": "code",
   "execution_count": null,
   "metadata": {
    "collapsed": true
   },
   "outputs": [],
   "source": [
    "## Code goes here"
   ]
  },
  {
   "cell_type": "code",
   "execution_count": null,
   "metadata": {
    "collapsed": true
   },
   "outputs": [],
   "source": [
    "## Drivers & Runners"
   ]
  },
  {
   "cell_type": "code",
   "execution_count": null,
   "metadata": {
    "collapsed": true
   },
   "outputs": [],
   "source": [
    "## Run Scripts, S3 Sync"
   ]
  },
  {
   "cell_type": "markdown",
   "metadata": {},
   "source": [
    "<h2 style=\"color:darkgreen\">  HW 9.1 Analysis </h2>\n",
    "\n",
    "\n",
    "\n",
    "\n",
    "<br><br>"
   ]
  },
  {
   "cell_type": "markdown",
   "metadata": {},
   "source": [
    "## 3.  HW9.2: Exploring PageRank teleportation and network plots <a name=\"1.2\"></a>\n",
    "[Back to Table of Contents](#TOC)\n",
    "\n",
    "\n",
    "* In order to overcome  problems such as disconnected components, the damping factor (a typical value for d is 0.85) can be varied. \n",
    "* Using the graph in HW1, plot the test graph (using networkx, https://networkx.github.io/) for several values of the damping parameter alpha, so that each nodes radius is proportional to its PageRank score. \n",
    "* In particular you should do this for the following damping factors: [0,0.25,0.5,0.75, 0.85, 1]. \n",
    "* Note your plots should look like the following: https://en.wikipedia.org/wiki/PageRank#/media/File:PageRanks-Example.svg"
   ]
  },
  {
   "cell_type": "markdown",
   "metadata": {},
   "source": [
    "<h2 style=\"color:darkgreen\"> HW 9.2 Implementation </h2>"
   ]
  },
  {
   "cell_type": "code",
   "execution_count": null,
   "metadata": {
    "collapsed": true
   },
   "outputs": [],
   "source": [
    "## Code goes here"
   ]
  },
  {
   "cell_type": "code",
   "execution_count": null,
   "metadata": {
    "collapsed": true
   },
   "outputs": [],
   "source": [
    "## Drivers & Runners"
   ]
  },
  {
   "cell_type": "code",
   "execution_count": null,
   "metadata": {
    "collapsed": true
   },
   "outputs": [],
   "source": [
    "## Run Scripts, S3 Sync"
   ]
  },
  {
   "cell_type": "markdown",
   "metadata": {},
   "source": [
    "<h2 style=\"color:darkgreen\">  HW 9.2 Analysis </h2>\n",
    "\n",
    "\n",
    "\n",
    "\n",
    "<br><br>"
   ]
  },
  {
   "cell_type": "markdown",
   "metadata": {},
   "source": [
    "## 3.  HW9.3: Applying PageRank to the Wikipedia hyperlinks network <a name=\"1.3\"></a>\n",
    "[Back to Table of Contents](#TOC)\n",
    "\n",
    "<\n",
    "* Run your PageRank implementation on the Wikipedia dataset for 5 iterations, and display the top 100 ranked nodes (with alpha = 0.85).\n",
    "* Run your PageRank implementation on the Wikipedia dataset for 10 iterations, and display the top 100 ranked nodes (with teleportation factor of 0.15).\n",
    "* Have the top 100 ranked pages changed? Comment on your findings. \n",
    "* Plot the pagerank values for the top 100 pages resulting from the 5 iterations run. Then plot the pagerank values for the same 100 pages that resulted from the 10 iterations run.  \n"
   ]
  },
  {
   "cell_type": "markdown",
   "metadata": {},
   "source": [
    "<h2 style=\"color:darkgreen\"> HW 9.3 Implementation </h2>"
   ]
  },
  {
   "cell_type": "code",
   "execution_count": null,
   "metadata": {
    "collapsed": true
   },
   "outputs": [],
   "source": [
    "## Code goes here"
   ]
  },
  {
   "cell_type": "code",
   "execution_count": null,
   "metadata": {
    "collapsed": true
   },
   "outputs": [],
   "source": [
    "## Drivers & Runners"
   ]
  },
  {
   "cell_type": "code",
   "execution_count": null,
   "metadata": {
    "collapsed": true
   },
   "outputs": [],
   "source": [
    "## Run Scripts, S3 Sync"
   ]
  },
  {
   "cell_type": "markdown",
   "metadata": {},
   "source": [
    " <h2 style=\"color:darkgreen\">  HW 9.3 Analysis </h2>\n",
    "\n",
    "\n",
    "\n",
    "\n",
    "<br><br>"
   ]
  },
  {
   "cell_type": "markdown",
   "metadata": {},
   "source": [
    "## 3.  HW9.4: Topic-specific PageRank implementation using MRJob <a name=\"1.4\"></a>\n",
    "[Back to Table of Contents](#TOC)\n",
    "\n",
    "Modify your PageRank implementation to produce a topic specific PageRank implementation, as described in:\n",
    "\n",
    "http://www-cs-students.stanford.edu/~taherh/papers/topic-sensitive-pagerank.pdf\n",
    "\n",
    "Note in this article that there is a special caveat to ensure that the transition matrix is irreducible.   \n",
    "This caveat lies in footnote 3 on page 3:\n",
    "```\n",
    "\tA minor caveat: to ensure that M is irreducible when p\n",
    "\tcontains any 0 entries, nodes not reachable from nonzero\n",
    "\tnodes in p should be removed. In practice this is not problematic.\n",
    "```\n",
    "and must be adhered to for convergence to be guaranteed.   \n",
    "\n",
    "Run topic specific PageRank on the following randomly generated network of 100 nodes:\n",
    "\n",
    "> s3://ucb-mids-mls-networks/randNet.txt (also available on Dropbox)\n",
    "\n",
    "which are organized into ten topics, as described in the file:\n",
    "\n",
    "> s3://ucb-mids-mls-networks/randNet_topics.txt  (also available on Dropbox)\n",
    "\n",
    "Since there are 10 topics, your result should be 11 PageRank vectors (one for the vanilla PageRank implementation in 9.1, and one for each topic with the topic specific implementation). Print out the top ten ranking nodes and their topics for each of the 11 versions, and comment on your result. Assume a teleportation factor of 0.15 in all your analyses.\n",
    "\n",
    "One final and important comment here:  please consider the requirements for irreducibility with topic-specific PageRank. In particular, the literature ensures irreducibility by requiring that nodes not reachable from in-topic nodes be removed from the network.\n",
    "\n",
    "This is not a small task, especially as it it must be performed separately for each of the (10) topics.\n",
    "\n",
    "So, instead of using this method for irreducibility, please comment on why the literature's method is difficult to implement, and what what extra computation it will require.   \n",
    "\n",
    "Then for your code, please use the alternative, non-uniform damping vector:\n",
    "\n",
    "```\n",
    "vji = beta*(1/|Tj|); if node i lies in topic Tj\n",
    "\n",
    "vji = (1-beta)*(1/(N - |Tj|)); if node i lies outside of topic Tj\n",
    "```\n",
    "for beta in (0,1) close to 1. \n",
    "\n",
    "With this approach, you will not have to delete any nodes. If beta > 0.5, PageRank is topic-sensitive, and if beta < 0.5, the PageRank is anti-topic-sensitive. For any value of beta irreducibility should hold, so please try beta=0.99, and perhaps some other values locally, on the smaller networks."
   ]
  },
  {
   "cell_type": "markdown",
   "metadata": {},
   "source": [
    "<h2 style=\"color:darkgreen\"> HW 9.4 Implementation </h2>"
   ]
  },
  {
   "cell_type": "code",
   "execution_count": null,
   "metadata": {
    "collapsed": true
   },
   "outputs": [],
   "source": [
    "## Code goes here"
   ]
  },
  {
   "cell_type": "code",
   "execution_count": null,
   "metadata": {
    "collapsed": true
   },
   "outputs": [],
   "source": [
    "## Drivers & Runners"
   ]
  },
  {
   "cell_type": "code",
   "execution_count": null,
   "metadata": {
    "collapsed": true
   },
   "outputs": [],
   "source": [
    "## Run Scripts, S3 Sync"
   ]
  },
  {
   "cell_type": "markdown",
   "metadata": {},
   "source": [
    "<h2 style=\"color:darkgreen\">  HW 9.4 Analysis </h2>\n",
    "\n",
    "\n",
    "\n",
    "\n",
    "<br><br>"
   ]
  },
  {
   "cell_type": "markdown",
   "metadata": {},
   "source": [
    "<center><div class='jumbotron'><h3 style='color:darkblue'>---------  OPTIONAL QUESTIONS SECTION --------</h3></div></center>"
   ]
  },
  {
   "cell_type": "markdown",
   "metadata": {},
   "source": [
    "## 3.  HW9.5: (OPTIONAL) Applying topic-specific PageRank to Wikipedia <a name=\"1.5\"></a>\n",
    "[Back to Table of Contents](#TOC)\n",
    "\n",
    "\n",
    "Here you will apply your topic-specific PageRank implementation to Wikipedia, defining topics (very arbitrarily) for each page by the length (number of characters) of the name of the article mod 10, so that there are 10 topics. \n",
    "\n",
    "* Once again, print out the top ten ranking nodes and their topics for each of the 11 versions, and comment on your result. Assume a teleportation factor of 0.15 in all your analyses. Run for 10 iterations.\n",
    "* Plot the pagerank values for the top 100 pages resulting from the 5 iterations run in HW 9.3. \n",
    "* Then plot the pagerank values for the same 100 pages that result from the topic specific pagerank after 10 iterations run. \n",
    "* Comment on your findings. "
   ]
  },
  {
   "cell_type": "markdown",
   "metadata": {},
   "source": [
    "<h2 style=\"color:darkgreen\"> HW 9.5 Implementation </h2>"
   ]
  },
  {
   "cell_type": "code",
   "execution_count": null,
   "metadata": {
    "collapsed": true
   },
   "outputs": [],
   "source": [
    "## Code goes here"
   ]
  },
  {
   "cell_type": "code",
   "execution_count": null,
   "metadata": {
    "collapsed": true
   },
   "outputs": [],
   "source": [
    "## Drivers & Runners"
   ]
  },
  {
   "cell_type": "code",
   "execution_count": null,
   "metadata": {
    "collapsed": true
   },
   "outputs": [],
   "source": [
    "## Run Scripts, S3 Sync"
   ]
  },
  {
   "cell_type": "markdown",
   "metadata": {},
   "source": [
    "<h2 style=\"color:darkgreen\">  HW 9.5 Analysis </h2>\n",
    "\n",
    "\n",
    "\n",
    "\n",
    "<br><br>"
   ]
  },
  {
   "cell_type": "markdown",
   "metadata": {},
   "source": [
    "## 3.  HW9.6:  (OPTIONAL) TextRank <a name=\"1.6\"></a>\n",
    "[Back to Table of Contents](#TOC)\n",
    "\n",
    "\n",
    "* What is TextRank? Describe the main steps in the algorithm. Why does TextRank work?\n",
    "* Implement TextRank in MrJob for keyword phrases (not just unigrams) extraction using co-occurrence based similarity measure with with sizes of N = 2 and 3. And evaluate your code using the following example using precision, recall, and FBeta (Beta=1):\n",
    "```\n",
    "\"Compatibility of systems of linear constraints over the set of natural numbers\n",
    "Criteria of compatibility of a system of linear Diophantine equations, strict \n",
    "inequations, and nonstrict inequations are considered. Upper bounds for\n",
    "components of a minimal set of solutions and algorithms of construction of \n",
    "minimal generating sets of solutions for all types of systems are given. \n",
    "These criteria and the corresponding algorithms for constructing a minimal \n",
    "supporting set of solutions can be used in solving all the considered types of \n",
    "systems and systems of mixed types.\" \n",
    "```\n",
    "* The extracted keywords should in the following set:\n",
    "```\n",
    "linear constraints, linear diophantine equations, natural numbers, non-strict inequations, strict inequations, upper bounds\n",
    "```"
   ]
  },
  {
   "cell_type": "markdown",
   "metadata": {},
   "source": [
    "<h2 style=\"color:darkgreen\"> HW 9.6 Implementation </h2>"
   ]
  },
  {
   "cell_type": "code",
   "execution_count": null,
   "metadata": {
    "collapsed": true
   },
   "outputs": [],
   "source": [
    "## Code goes here"
   ]
  },
  {
   "cell_type": "code",
   "execution_count": null,
   "metadata": {
    "collapsed": true
   },
   "outputs": [],
   "source": [
    "## Drivers & Runners"
   ]
  },
  {
   "cell_type": "code",
   "execution_count": null,
   "metadata": {
    "collapsed": true
   },
   "outputs": [],
   "source": [
    "## Run Scripts, S3 Sync"
   ]
  },
  {
   "cell_type": "markdown",
   "metadata": {},
   "source": [
    "<h2 style=\"color:darkgreen\">  HW 9.6 Analysis </h2>\n",
    "\n",
    "\n",
    "\n",
    "\n",
    "<br><br>"
   ]
  },
  {
   "cell_type": "markdown",
   "metadata": {},
   "source": [
    "<center><div class='jumbotron'><h2 style='color:green'>-------  END OF HWK 9 --------</h2></div></center>"
   ]
  }
 ],
 "metadata": {
  "anaconda-cloud": {},
  "kernelspec": {
   "display_name": "Python 2",
   "language": "python",
   "name": "python2"
  },
  "language_info": {
   "codemirror_mode": {
    "name": "ipython",
    "version": 2
   },
   "file_extension": ".py",
   "mimetype": "text/x-python",
   "name": "python",
   "nbconvert_exporter": "python",
   "pygments_lexer": "ipython2",
   "version": "2.7.12"
  }
 },
 "nbformat": 4,
 "nbformat_minor": 0
}
