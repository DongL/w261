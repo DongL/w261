{
 "cells": [
  {
   "cell_type": "code",
   "execution_count": 30,
   "metadata": {
    "collapsed": false
   },
   "outputs": [
    {
     "name": "stdout",
     "output_type": "stream",
     "text": [
      "\"/regwiz\",1000\r\n",
      "\"/support\",1001\r\n",
      "\"/athome\",1002\r\n",
      "\"/kb\",1003\r\n",
      "\"/search\",1004\r\n",
      "\"/norge\",1005\r\n",
      "\"/misc\",1006\r\n",
      "\"/ie_intl\",1007\r\n",
      "\"/msdownload\",1008\r\n",
      "\"/windows\",1009\r\n"
     ]
    }
   ],
   "source": [
    "!head urls.txt"
   ]
  },
  {
   "cell_type": "code",
   "execution_count": 50,
   "metadata": {
    "collapsed": false
   },
   "outputs": [
    {
     "name": "stdout",
     "output_type": "stream",
     "text": [
      "Overwriting GlobalState.py\n"
     ]
    }
   ],
   "source": [
    "%%writefile GlobalState.py\n",
    "\n",
    "from mrjob.job import MRJob\n",
    "import sys\n",
    "\n",
    "class GlobalState(MRJob):\n",
    "    def __init__(self):\n",
    "        self.GlobalList = []\n",
    "    \n",
    "    def mapper_init(self):\n",
    "        print(\"cat\", file=sys.stderr)\n",
    "    \n",
    "    def mapper(self, _, lines):\n",
    "        if \"wi\" in lines:\n",
    "            self.GlobalList.append(lines[2:8])\n",
    "        yield (lines, 1)\n",
    "        \n",
    "    def reducer(self, values, counts):\n",
    "        pass\n",
    "    \n",
    "    def reducer_final(self):\n",
    "        yield(self.GlobalList, 1)\n",
    "\n",
    "    \n",
    "if __name__ == \"__main__\":\n",
    "    GlobalState.run()"
   ]
  },
  {
   "cell_type": "code",
   "execution_count": 51,
   "metadata": {
    "collapsed": false
   },
   "outputs": [
    {
     "name": "stdout",
     "output_type": "stream",
     "text": [
      "Traceback (most recent call last):\r\n",
      "  File \"GlobalState.py\", line 25, in <module>\r\n",
      "    GlobalState.run()\r\n",
      "  File \"/Users/BlueOwl1/anaconda/lib/python3.5/site-packages/mrjob/job.py\", line 428, in run\r\n",
      "    mr_job = cls(args=_READ_ARGS_FROM_SYS_ARGV)\r\n",
      "TypeError: __init__() got an unexpected keyword argument 'args'\r\n"
     ]
    }
   ],
   "source": [
    "!head -n 10000 urls.txt | python GlobalState.py -r local -q "
   ]
  }
 ],
 "metadata": {
  "kernelspec": {
   "display_name": "Python [Root]",
   "language": "python",
   "name": "Python [Root]"
  },
  "language_info": {
   "codemirror_mode": {
    "name": "ipython",
    "version": 3
   },
   "file_extension": ".py",
   "mimetype": "text/x-python",
   "name": "python",
   "nbconvert_exporter": "python",
   "pygments_lexer": "ipython3",
   "version": "3.5.2"
  }
 },
 "nbformat": 4,
 "nbformat_minor": 0
}
