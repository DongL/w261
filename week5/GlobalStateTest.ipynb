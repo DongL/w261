{
 "cells": [
  {
   "cell_type": "code",
   "execution_count": 28,
   "metadata": {
    "collapsed": false
   },
   "outputs": [
    {
     "name": "stdout",
     "output_type": "stream",
     "text": [
      "Overwriting GlobalState.py\n"
     ]
    }
   ],
   "source": [
    "%%writefile GlobalState.py\n",
    "\n",
    "from mrjob.job import MRJob\n",
    "\n",
    "class GlobalState(MRJob):\n",
    "    GlobalList = []\n",
    "    \n",
    "    def mapper(self, _, lines):\n",
    "        if \"wi\" in lines:\n",
    "            self.GlobalList.append(lines[2:8])\n",
    "        yield (lines, 1)\n",
    "        \n",
    "    def reducer(self, values, counts):\n",
    "        pass\n",
    "    \n",
    "    def reducer_final(self):\n",
    "        yield(self.GlobalList, 1)\n",
    "\n",
    "    \n",
    "if __name__ == \"__main__\":\n",
    "    GlobalState.run()"
   ]
  },
  {
   "cell_type": "code",
   "execution_count": 29,
   "metadata": {
    "collapsed": false
   },
   "outputs": [
    {
     "name": "stdout",
     "output_type": "stream",
     "text": [
      "[\"regwiz\", \"window\"]\t1\r\n",
      "[\"regwiz\", \"window\"]\t1\r\n"
     ]
    }
   ],
   "source": [
    "!head urls.txt | python GlobalState.py -q"
   ]
  }
 ],
 "metadata": {
  "kernelspec": {
   "display_name": "Python [Root]",
   "language": "python",
   "name": "Python [Root]"
  },
  "language_info": {
   "codemirror_mode": {
    "name": "ipython",
    "version": 3
   },
   "file_extension": ".py",
   "mimetype": "text/x-python",
   "name": "python",
   "nbconvert_exporter": "python",
   "pygments_lexer": "ipython3",
   "version": "3.5.2"
  }
 },
 "nbformat": 4,
 "nbformat_minor": 0
}
